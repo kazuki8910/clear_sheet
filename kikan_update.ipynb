{
 "cells": [
  {
   "cell_type": "code",
   "execution_count": 1,
   "id": "7ef8cc4a-2eaa-404d-8b19-fe0f3229bc73",
   "metadata": {},
   "outputs": [],
   "source": [
    "# 基幹システムのデータをアップロードするスクリプト"
   ]
  },
  {
   "cell_type": "code",
   "execution_count": 54,
   "id": "7d2be3c5-7eeb-4acc-976e-3e14bb02c3f1",
   "metadata": {},
   "outputs": [],
   "source": [
    "########################\n",
    "# \n",
    "# 設定（変動）\n",
    "# \n",
    "########################\n",
    "\n",
    "# 該当月\n",
    "applicable_month = 7"
   ]
  },
  {
   "cell_type": "code",
   "execution_count": 48,
   "id": "db9de5ff-67e6-41ef-8daa-774de5dd4e9b",
   "metadata": {},
   "outputs": [
    {
     "name": "stdout",
     "output_type": "stream",
     "text": [
      "モジュールのインポート完了\n"
     ]
    }
   ],
   "source": [
    "########################\n",
    "# \n",
    "# モジュール\n",
    "# \n",
    "########################\n",
    "\n",
    "# 一般モジュール\n",
    "import pandas as pd\n",
    "import re\n",
    "import pytz\n",
    "from datetime import datetime as dt\n",
    "\n",
    "import os\n",
    "import csv\n",
    "import time\n",
    "from selenium.webdriver.common.by import By\n",
    "\n",
    "# スプシ関連\n",
    "from gspread_dataframe import set_with_dataframe\n",
    "\n",
    "# 自作モジュール\n",
    "import func\n",
    "import conf\n",
    "\n",
    "print(\"モジュールのインポート完了\")"
   ]
  },
  {
   "cell_type": "code",
   "execution_count": 56,
   "id": "4c2fd0bb-9fe7-41ef-9468-096061c41b71",
   "metadata": {},
   "outputs": [],
   "source": [
    "########################\n",
    "# \n",
    "# 設定（固定）\n",
    "# \n",
    "########################\n",
    "# 基幹システムのURL\n",
    "url_kikan = \"https://mensclear.com/users/reservations\"\n",
    "\n",
    "# ログイン情報\n",
    "login_email = \"cb140000@yahoo.co.jp\" # メールアドレス\n",
    "login_pass  = \"muramura\" # パスワード\n",
    "\n",
    "# CSVファイルの保存先\n",
    "csv_filepass = \"data/reservations.csv\"\n",
    "\n",
    "# 実行月\n",
    "this_month = dt.today().month"
   ]
  },
  {
   "cell_type": "code",
   "execution_count": null,
   "id": "3faa68c1-b272-4caa-bda4-1f64ebfc4326",
   "metadata": {},
   "outputs": [],
   "source": [
    "########################\n",
    "# \n",
    "# 動作\n",
    "# \n",
    "########################"
   ]
  },
  {
   "cell_type": "code",
   "execution_count": 57,
   "id": "82a00d75-8003-494a-b084-b882f8b22299",
   "metadata": {},
   "outputs": [],
   "source": [
    "#########################\n",
    "# 月をまたいだら実行しない\n",
    "#########################\n",
    "if(this_month == applicable_month):\n",
    "\n",
    "    # クローム軌道\n",
    "    drive = func.start_chrome(headless=False)\n",
    "\n",
    "    #########################\n",
    "    # 基幹システムにログイン\n",
    "    #########################\n",
    "\n",
    "    drive.get(url_kikan)\n",
    "    time.sleep(3)\n",
    "\n",
    "    # メールに入力\n",
    "    elm_email = drive.find_element(By.ID, \"user_email\")\n",
    "    elm_email.send_keys(login_email)\n",
    "    time.sleep(1)\n",
    "\n",
    "    # パスワードを入力\n",
    "    elm_pass = drive.find_element(By.ID, \"user_password\")\n",
    "    elm_pass.send_keys(login_pass)\n",
    "    time.sleep(1)\n",
    "\n",
    "    # ログインボタン押下\n",
    "    elm_login_btn = drive.find_element(By.CLASS_NAME, \"p-sessions__button\")\n",
    "    elm_login_btn.click()\n",
    "    time.sleep(3)\n",
    "\n",
    "    #########################\n",
    "    # CSVダウンロード\n",
    "    #########################\n",
    "\n",
    "    # データ一覧を表示\n",
    "    elm_data_index = drive.find_elements(By.CLASS_NAME, \"l-dashboard__panel\")[0]\n",
    "    elm_data_index.click()\n",
    "    time.sleep(3)\n",
    "\n",
    "    # ダウンロードボタンをクリック\n",
    "    elm_dl_btn = drive.find_element(By.NAME, \"commit\")\n",
    "    elm_dl_btn.click()\n",
    "    time.sleep(3)\n",
    "\n",
    "    #########################\n",
    "    # スプシにアップロード\n",
    "    #########################\n",
    "\n",
    "    # クラン ROAS管理シートキー\n",
    "    sheet_key = \"18s2UpmJ5z0EyMxepWVOZ7gDnQ8y5SOBF9Sma3P8Enws\"\n",
    "\n",
    "    # シートにアクセス\n",
    "    wb = func.connect_gspread(sheet_key)\n",
    "\n",
    "    # CSVをアップロード\n",
    "    wb.values_update(\n",
    "        '基幹_当月',\n",
    "        params={'valueInputOption': 'USER_ENTERED'},\n",
    "        body={'values': list(csv.reader(open(csv_filepass, encoding='cp932')))}\n",
    "    )\n",
    "    time.sleep(3)\n",
    "\n",
    "    #########################\n",
    "    # CSVファイルを削除\n",
    "    #########################\n",
    "\n",
    "    os.remove(csv_filepass)"
   ]
  },
  {
   "cell_type": "code",
   "execution_count": null,
   "id": "e29a5bd1-9ef5-4ec5-b506-1f7c17edf970",
   "metadata": {},
   "outputs": [],
   "source": []
  },
  {
   "cell_type": "code",
   "execution_count": null,
   "id": "7d0bd53e-3edd-4b9b-9427-328cbe8280a8",
   "metadata": {},
   "outputs": [],
   "source": []
  },
  {
   "cell_type": "code",
   "execution_count": null,
   "id": "d0a805e4-ed5d-49b5-87ed-763373204789",
   "metadata": {},
   "outputs": [],
   "source": []
  },
  {
   "cell_type": "code",
   "execution_count": null,
   "id": "e66961fb-0ae4-478c-ad14-c50631d81bca",
   "metadata": {},
   "outputs": [],
   "source": []
  },
  {
   "cell_type": "code",
   "execution_count": null,
   "id": "a7bf669b-c986-4952-a375-30c9f50a7555",
   "metadata": {},
   "outputs": [],
   "source": []
  },
  {
   "cell_type": "code",
   "execution_count": null,
   "id": "dd3e5e37-1738-48ad-a460-bce368060a85",
   "metadata": {},
   "outputs": [],
   "source": []
  },
  {
   "cell_type": "code",
   "execution_count": null,
   "id": "1666cfd1-9500-4898-bd27-6668dd534306",
   "metadata": {},
   "outputs": [],
   "source": []
  }
 ],
 "metadata": {
  "kernelspec": {
   "display_name": "Python 3 (ipykernel)",
   "language": "python",
   "name": "python3"
  },
  "language_info": {
   "codemirror_mode": {
    "name": "ipython",
    "version": 3
   },
   "file_extension": ".py",
   "mimetype": "text/x-python",
   "name": "python",
   "nbconvert_exporter": "python",
   "pygments_lexer": "ipython3",
   "version": "3.9.7"
  }
 },
 "nbformat": 4,
 "nbformat_minor": 5
}
