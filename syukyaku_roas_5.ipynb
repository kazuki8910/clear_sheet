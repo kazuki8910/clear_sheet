{
 "cells": [
  {
   "cell_type": "code",
   "execution_count": 1,
   "id": "6e4f58ec-8764-4381-b39c-42a35021f410",
   "metadata": {},
   "outputs": [],
   "source": [
    "# 集客表のデータ取得"
   ]
  },
  {
   "cell_type": "code",
   "execution_count": 2,
   "id": "d661ad2a-54ce-42c5-96a7-d704e3430667",
   "metadata": {},
   "outputs": [
    {
     "name": "stdout",
     "output_type": "stream",
     "text": [
      "モジュールのインポート完了\n"
     ]
    }
   ],
   "source": [
    "########################\n",
    "# \n",
    "# モジュール\n",
    "# \n",
    "########################\n",
    "\n",
    "# 一般モジュール\n",
    "import pandas as pd\n",
    "import re\n",
    "from datetime import datetime as dt\n",
    "\n",
    "# スプシ関連\n",
    "from gspread_dataframe import set_with_dataframe\n",
    "\n",
    "# 自作モジュール\n",
    "import func\n",
    "import conf\n",
    "\n",
    "print(\"モジュールのインポート完了\")"
   ]
  },
  {
   "cell_type": "code",
   "execution_count": 3,
   "id": "a2f61648-1d02-4097-81c1-3aad698360e7",
   "metadata": {},
   "outputs": [],
   "source": [
    "########################\n",
    "# \n",
    "# 設定\n",
    "# \n",
    "########################\n",
    "\n",
    "# シートキー\n",
    "key_02 = \"1WORdOLMmZU-7xyEhtZUJbjwyKe_q1Ye47E30xSA4ZS4\"\n",
    "\n",
    "key_list = [\n",
    "    [\"サルクルー ROAS 5月\", \"1c_OptSDdKnwPT2hCR5GeLx2zRN8XoBh0UIozH-dIuqw\"],\n",
    "    [\"FORCE ROAS 5月\", \"1mkku6tfljMB8Eqhf-BO7FrREggMywUJXW3PakpgktTA\"],\n",
    "    [\"セレス ROAS 5月\", \"1Cyco-l3AOUdMGU28KNI5lDhqLnyq4uzSWYY9_U7qRCE\"],\n",
    "    [\"パフォテク ROAS 5月\", \"1ym1zIV-_ZFkNeCDS2JxvmOq8kbsQAvK-eTfyRYKSdVQ\"],\n",
    "    [\"アレテコ ROAS 5月\", \"1-gN3Zgot1hiG8V1po4247jS1a8FzG6k3ZK6QL4P2ow4\"],\n",
    "    [\"ブリーチ ROAS 5月\", \"1X6rNJoFEaRttEaihhbwRm57T9Ho2FOumtvQCAhWZVyQ\"],\n",
    "    [\"FA ROAS 5月\", \"1h5o5m3lynyufizEpQTf-fXbR1WoeutwZHJUN6V9AITs\"],\n",
    "    [\"クラン ROAS 5月\", \"1iKUNYXU9uwO35MplWyMh6Y4l7gEF78O7AQ2135WI7gk\"],\n",
    "    [\"ナハト ROAS 5月\", \"1RRJDE6ZFrsAFl2UkQo5Tnrjg4QIXdSUXFgiSrgSN6FY\"],\n",
    "    [\"エンジョイ ROAS 5月\", \"1UjXevYXR1vZTHHX1SvoTWyxP4mW2zvf0rLVAWjITm_E\"],\n",
    "    [\"無限 ROAS 5月\", \"1tTF5NOdqN5CCLoUAbC9qxXVPEFH8c2UdVwqGGRRUiE4\"]\n",
    "]\n",
    "\n",
    "# シート名\n",
    "name_02 = \"22年5月\"\n",
    "name_to = \"集客表_当月\""
   ]
  },
  {
   "cell_type": "code",
   "execution_count": 4,
   "id": "1e456634-b275-41a8-b164-dad0f9261c4a",
   "metadata": {},
   "outputs": [],
   "source": [
    "########################\n",
    "# \n",
    "# コピペ\n",
    "# \n",
    "########################\n",
    "\n",
    "# 集客表元データのシートにアクセス\n",
    "wb_origin = func.connect_gspread(key_02)\n",
    "ws_origin = wb_origin.worksheet(name_02)"
   ]
  },
  {
   "cell_type": "code",
   "execution_count": 5,
   "id": "41e423c7-23d1-4267-b033-038b427afbae",
   "metadata": {},
   "outputs": [],
   "source": [
    "# 元データ取得\n",
    "df_origin = pd.DataFrame(ws_origin.get_all_values()) # 元データ取得\n",
    "df_origin = df_origin[df_origin[4] != \"\"]   # ID空白除去"
   ]
  },
  {
   "cell_type": "code",
   "execution_count": 6,
   "id": "1451d6b1-65d4-44ae-b0cd-8059d0bd37ed",
   "metadata": {},
   "outputs": [],
   "source": [
    "# コピー先にアクセス\n",
    "wb_origin = func.connect_gspread(key_02)\n",
    "ws_origin = wb_origin.worksheet(name_02)"
   ]
  },
  {
   "cell_type": "code",
   "execution_count": 7,
   "id": "589076dc-dee4-4ce1-98cb-0b2fe632566e",
   "metadata": {},
   "outputs": [
    {
     "name": "stdout",
     "output_type": "stream",
     "text": [
      "サルクルー ROAS 5月\n",
      "FORCE ROAS 5月\n",
      "セレス ROAS 5月\n",
      "パフォテク ROAS 5月\n",
      "アレテコ ROAS 5月\n",
      "ブリーチ ROAS 5月\n",
      "FA ROAS 5月\n",
      "クラン ROAS 5月\n",
      "ナハト ROAS 5月\n",
      "エンジョイ ROAS 5月\n",
      "無限 ROAS 5月\n"
     ]
    }
   ],
   "source": [
    "# ループにする\n",
    "for this_key in key_list:\n",
    "    asp_name = this_key[0]\n",
    "    key_to = this_key[1]\n",
    "\n",
    "    # ROAS管理シートにアクセス\n",
    "    wb_to = func.connect_gspread(key_to)\n",
    "    ws_to = wb_to.worksheet(name_to)\n",
    "\n",
    "    # まとめデータを貼り付け\n",
    "    set_with_dataframe(ws_to, df_origin)\n",
    "\n",
    "    # タイムスタンプ\n",
    "    cell = ws_to.range(1,1,1,1)\n",
    "    cell[0].value = str(dt.today())\n",
    "    ws_to.update_cells(cell)\n",
    "    \n",
    "    print(asp_name)"
   ]
  },
  {
   "cell_type": "code",
   "execution_count": 8,
   "id": "bcbd9c3e-961d-4a71-92c8-57467bbb2b30",
   "metadata": {},
   "outputs": [
    {
     "name": "stdout",
     "output_type": "stream",
     "text": [
      "完了\n"
     ]
    }
   ],
   "source": [
    "print(\"完了\")"
   ]
  },
  {
   "cell_type": "code",
   "execution_count": null,
   "id": "34b1127e-b63b-4a36-8e2a-909c9a456987",
   "metadata": {},
   "outputs": [],
   "source": []
  }
 ],
 "metadata": {
  "kernelspec": {
   "display_name": "Python 3 (ipykernel)",
   "language": "python",
   "name": "python3"
  },
  "language_info": {
   "codemirror_mode": {
    "name": "ipython",
    "version": 3
   },
   "file_extension": ".py",
   "mimetype": "text/x-python",
   "name": "python",
   "nbconvert_exporter": "python",
   "pygments_lexer": "ipython3",
   "version": "3.9.7"
  }
 },
 "nbformat": 4,
 "nbformat_minor": 5
}
