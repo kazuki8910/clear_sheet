{
 "cells": [
  {
   "cell_type": "code",
   "execution_count": 1,
   "id": "6e4f58ec-8764-4381-b39c-42a35021f410",
   "metadata": {},
   "outputs": [],
   "source": [
    "# 集客表のデータ取得"
   ]
  },
  {
   "cell_type": "code",
   "execution_count": 2,
   "id": "d661ad2a-54ce-42c5-96a7-d704e3430667",
   "metadata": {},
   "outputs": [
    {
     "name": "stdout",
     "output_type": "stream",
     "text": [
      "モジュールのインポート完了\n"
     ]
    }
   ],
   "source": [
    "########################\n",
    "# \n",
    "# モジュール\n",
    "# \n",
    "########################\n",
    "\n",
    "# 一般モジュール\n",
    "import pandas as pd\n",
    "import re\n",
    "from datetime import datetime as dt\n",
    "\n",
    "# スプシ関連\n",
    "from gspread_dataframe import set_with_dataframe\n",
    "\n",
    "# 自作モジュール\n",
    "import func\n",
    "import conf\n",
    "\n",
    "print(\"モジュールのインポート完了\")"
   ]
  },
  {
   "cell_type": "code",
   "execution_count": 3,
   "id": "a2f61648-1d02-4097-81c1-3aad698360e7",
   "metadata": {},
   "outputs": [],
   "source": [
    "########################\n",
    "# \n",
    "# 設定\n",
    "# \n",
    "########################\n",
    "\n",
    "# シートキー\n",
    "key_02 = \"1WORdOLMmZU-7xyEhtZUJbjwyKe_q1Ye47E30xSA4ZS4\"\n",
    "\n",
    "key_list = [\n",
    "    [\"フォースリー 成果 5月\", \"15Jn-q4G5060iDOII7EW8_zhDdWfwFHB3oWwQRMfanqs\"],\n",
    "    [\"リンクエッジ 成果 5月\", \"1fsu-uILuZ7Y72GGX86dwmrJgXi20ZOQmWyftqIPRuco\"],\n",
    "    [\"サルクルー 成果 5月\", \"1G5kxK7lmHHZJTP29N9ApRQV4TJoYT2RaVltMK_Wldew\"],\n",
    "    [\"FORCE 成果 5月\", \"11nQNMGIzlfX8KM-jreCwnrjqdsAUfUliHgrwqdHIG4o\"],\n",
    "    [\"レントラ（FA） 成果 5月\", \"1AjAHRleLKcHRWKnN1E77_NbBGsCmOIs3jLLAps4iwQE\"],\n",
    "    [\"セレス 成果 5月\", \"1YwE-Hdx058OEkhHjovjal0ScKEJNWOIFEBtR-qoIyWA\"],\n",
    "    [\"ブランディングエンジニア 成果 5月\", \"1huUp9ASQCPD5mnOYcrn5XcJzKVvCaQnUr3o7guNhcNU\"],\n",
    "    [\"パフォテク 成果 5月\", \"1lENLjIfu49QANCQUNVmaB7A9Cd2Ha--nwnM4P2oh2yk\"],\n",
    "    [\"アレテコ 成果 5月\", \"1h-eKxkFgKjbtU4zSZ27w_qX5xB2I43to0wyFmNXQ_x0\"],\n",
    "    [\"ブリーチ 成果 5月\", \"1dlyj0kda6GpvNWLCpHPEU1h0kkMGSvE9798uVz_ibfk\"],\n",
    "    [\"FA 成果 5月\", \"1f6DAv8sFpUio8ougLu4Sm_exrJV9D_0kF75dUbKqqEo\"],\n",
    "    [\"クラン 成果 5月\", \"1yyNXq88-XQROgeQdt6LtEy5UretavethE1Q-mqgk_sQ\"]\n",
    "]\n",
    "\n",
    "# シート名\n",
    "name_02 = \"22年5月\"\n",
    "name_to = \"まとめデータ_22年5月\""
   ]
  },
  {
   "cell_type": "code",
   "execution_count": 4,
   "id": "1e456634-b275-41a8-b164-dad0f9261c4a",
   "metadata": {},
   "outputs": [],
   "source": [
    "########################\n",
    "# \n",
    "# コピペ\n",
    "# \n",
    "########################\n",
    "\n",
    "# 集客表元データのシートにアクセス\n",
    "wb_origin = func.connect_gspread(key_02)\n",
    "ws_origin = wb_origin.worksheet(name_02)"
   ]
  },
  {
   "cell_type": "code",
   "execution_count": 5,
   "id": "41e423c7-23d1-4267-b033-038b427afbae",
   "metadata": {},
   "outputs": [],
   "source": [
    "# 元データ取得\n",
    "df_origin = pd.DataFrame(ws_origin.get_all_values()) # 元データ取得\n",
    "df_origin = df_origin[df_origin[4] != \"\"]   # ID空白除去"
   ]
  },
  {
   "cell_type": "code",
   "execution_count": 6,
   "id": "1451d6b1-65d4-44ae-b0cd-8059d0bd37ed",
   "metadata": {},
   "outputs": [],
   "source": [
    "# コピー先にアクセス\n",
    "wb_origin = func.connect_gspread(key_02)\n",
    "ws_origin = wb_origin.worksheet(name_02)"
   ]
  },
  {
   "cell_type": "code",
   "execution_count": 7,
   "id": "589076dc-dee4-4ce1-98cb-0b2fe632566e",
   "metadata": {},
   "outputs": [
    {
     "name": "stdout",
     "output_type": "stream",
     "text": [
      "フォースリー 成果 5月\n",
      "リンクエッジ 成果 5月\n",
      "サルクルー 成果 5月\n",
      "FORCE 成果 5月\n",
      "レントラ（FA） 成果 5月\n",
      "セレス 成果 5月\n",
      "ブランディングエンジニア 成果 5月\n",
      "パフォテク 成果 5月\n",
      "アレテコ 成果 5月\n",
      "ブリーチ 成果 5月\n",
      "FA 成果 5月\n",
      "クラン 成果 5月\n"
     ]
    }
   ],
   "source": [
    "# 後でループにする\n",
    "for this_key in key_list:\n",
    "    asp_name = this_key[0]\n",
    "    key_to = this_key[1]\n",
    "\n",
    "    # ROAS管理シートにアクセス\n",
    "    wb_to = func.connect_gspread(key_to)\n",
    "    ws_to = wb_to.worksheet(name_to)\n",
    "\n",
    "    # まとめデータを貼り付け\n",
    "    set_with_dataframe(ws_to, df_origin)\n",
    "\n",
    "    # タイムスタンプ\n",
    "    cell = ws_to.range(1,1,1,1)\n",
    "    cell[0].value = str(dt.today())\n",
    "    ws_to.update_cells(cell)\n",
    "    \n",
    "    print(asp_name)"
   ]
  },
  {
   "cell_type": "code",
   "execution_count": 8,
   "id": "bcbd9c3e-961d-4a71-92c8-57467bbb2b30",
   "metadata": {},
   "outputs": [
    {
     "name": "stdout",
     "output_type": "stream",
     "text": [
      "完了\n"
     ]
    }
   ],
   "source": [
    "print(\"完了\")"
   ]
  },
  {
   "cell_type": "code",
   "execution_count": null,
   "id": "34b1127e-b63b-4a36-8e2a-909c9a456987",
   "metadata": {},
   "outputs": [],
   "source": []
  }
 ],
 "metadata": {
  "kernelspec": {
   "display_name": "Python 3 (ipykernel)",
   "language": "python",
   "name": "python3"
  },
  "language_info": {
   "codemirror_mode": {
    "name": "ipython",
    "version": 3
   },
   "file_extension": ".py",
   "mimetype": "text/x-python",
   "name": "python",
   "nbconvert_exporter": "python",
   "pygments_lexer": "ipython3",
   "version": "3.9.7"
  }
 },
 "nbformat": 4,
 "nbformat_minor": 5
}
